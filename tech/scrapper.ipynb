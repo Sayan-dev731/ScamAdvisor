{
 "cells": [
  {
   "cell_type": "markdown",
   "id": "64d342d6",
   "metadata": {},
   "source": [
    "Research Agent with Gemini 2.5 Pro and LlamaIndex\n",
    "\n",
    "LlamaIndex is a framework for building knowledge agents using LLMs connected to your data. This example shows you how to build a multi-agent workflow for a Research Agent. In LlamaIndex, Workflows are the building blocks of agent or multi-agent systems.\n",
    "\n",
    "You need a Gemini API key. If you don't already have one, you can get one in Google AI Studio. First, install all required LlamaIndex libraries.LlamaIndex uses the google-genai package under the hood."
   ]
  },
  {
   "cell_type": "code",
   "execution_count": 1,
   "id": "b2f90148",
   "metadata": {},
   "outputs": [
    {
     "name": "stdout",
     "output_type": "stream",
     "text": [
      "Defaulting to user installation because normal site-packages is not writeable\n",
      "Requirement already satisfied: llama-index in c:\\users\\sayan\\appdata\\roaming\\python\\python313\\site-packages (0.13.3)\n",
      "Collecting llama-index-utils-workflow\n",
      "  Downloading llama_index_utils_workflow-0.4.0-py3-none-any.whl.metadata (1.1 kB)\n",
      "Requirement already satisfied: llama-index-llms-google-genai in c:\\users\\sayan\\appdata\\roaming\\python\\python313\\site-packages (0.3.0)\n",
      "Collecting llama-index-tools-google\n",
      "  Downloading llama_index_tools_google-0.6.0-py3-none-any.whl.metadata (1.9 kB)\n",
      "Requirement already satisfied: llama-index-cli<0.6,>=0.5.0 in c:\\users\\sayan\\appdata\\roaming\\python\\python313\\site-packages (from llama-index) (0.5.0)\n",
      "Requirement already satisfied: llama-index-core<0.14,>=0.13.3 in c:\\users\\sayan\\appdata\\roaming\\python\\python313\\site-packages (from llama-index) (0.13.3)\n",
      "Requirement already satisfied: llama-index-embeddings-openai<0.6,>=0.5.0 in c:\\users\\sayan\\appdata\\roaming\\python\\python313\\site-packages (from llama-index) (0.5.0)\n",
      "Requirement already satisfied: llama-index-indices-managed-llama-cloud>=0.4.0 in c:\\users\\sayan\\appdata\\roaming\\python\\python313\\site-packages (from llama-index) (0.9.2)\n",
      "Requirement already satisfied: llama-index-llms-openai<0.6,>=0.5.0 in c:\\users\\sayan\\appdata\\roaming\\python\\python313\\site-packages (from llama-index) (0.5.4)\n",
      "Requirement already satisfied: llama-index-readers-file<0.6,>=0.5.0 in c:\\users\\sayan\\appdata\\roaming\\python\\python313\\site-packages (from llama-index) (0.5.2)\n",
      "Requirement already satisfied: llama-index-readers-llama-parse>=0.4.0 in c:\\users\\sayan\\appdata\\roaming\\python\\python313\\site-packages (from llama-index) (0.5.0)\n",
      "Requirement already satisfied: nltk>3.8.1 in c:\\users\\sayan\\appdata\\roaming\\python\\python313\\site-packages (from llama-index) (3.9.1)\n",
      "Requirement already satisfied: aiohttp<4,>=3.8.6 in c:\\users\\sayan\\appdata\\roaming\\python\\python313\\site-packages (from llama-index-core<0.14,>=0.13.3->llama-index) (3.12.15)\n",
      "Requirement already satisfied: aiosqlite in c:\\users\\sayan\\appdata\\roaming\\python\\python313\\site-packages (from llama-index-core<0.14,>=0.13.3->llama-index) (0.21.0)\n",
      "Requirement already satisfied: banks<3,>=2.2.0 in c:\\users\\sayan\\appdata\\roaming\\python\\python313\\site-packages (from llama-index-core<0.14,>=0.13.3->llama-index) (2.2.0)\n",
      "Requirement already satisfied: dataclasses-json in c:\\users\\sayan\\appdata\\roaming\\python\\python313\\site-packages (from llama-index-core<0.14,>=0.13.3->llama-index) (0.6.7)\n",
      "Requirement already satisfied: deprecated>=1.2.9.3 in c:\\users\\sayan\\appdata\\roaming\\python\\python313\\site-packages (from llama-index-core<0.14,>=0.13.3->llama-index) (1.2.18)\n",
      "Requirement already satisfied: dirtyjson<2,>=1.0.8 in c:\\users\\sayan\\appdata\\roaming\\python\\python313\\site-packages (from llama-index-core<0.14,>=0.13.3->llama-index) (1.0.8)\n",
      "Requirement already satisfied: filetype<2,>=1.2.0 in c:\\users\\sayan\\appdata\\roaming\\python\\python313\\site-packages (from llama-index-core<0.14,>=0.13.3->llama-index) (1.2.0)\n",
      "Requirement already satisfied: fsspec>=2023.5.0 in c:\\users\\sayan\\appdata\\roaming\\python\\python313\\site-packages (from llama-index-core<0.14,>=0.13.3->llama-index) (2025.7.0)\n",
      "Requirement already satisfied: httpx in c:\\users\\sayan\\appdata\\roaming\\python\\python313\\site-packages (from llama-index-core<0.14,>=0.13.3->llama-index) (0.28.1)\n",
      "Requirement already satisfied: llama-index-workflows<2,>=1.0.1 in c:\\users\\sayan\\appdata\\roaming\\python\\python313\\site-packages (from llama-index-core<0.14,>=0.13.3->llama-index) (1.3.0)\n",
      "Requirement already satisfied: nest-asyncio<2,>=1.5.8 in c:\\users\\sayan\\appdata\\roaming\\python\\python313\\site-packages (from llama-index-core<0.14,>=0.13.3->llama-index) (1.6.0)\n",
      "Requirement already satisfied: networkx>=3.0 in c:\\users\\sayan\\appdata\\roaming\\python\\python313\\site-packages (from llama-index-core<0.14,>=0.13.3->llama-index) (3.5)\n",
      "Requirement already satisfied: numpy in c:\\users\\sayan\\appdata\\roaming\\python\\python313\\site-packages (from llama-index-core<0.14,>=0.13.3->llama-index) (2.2.5)\n",
      "Requirement already satisfied: pillow>=9.0.0 in c:\\users\\sayan\\appdata\\roaming\\python\\python313\\site-packages (from llama-index-core<0.14,>=0.13.3->llama-index) (11.2.1)\n",
      "Requirement already satisfied: platformdirs in c:\\users\\sayan\\appdata\\roaming\\python\\python313\\site-packages (from llama-index-core<0.14,>=0.13.3->llama-index) (4.3.7)\n",
      "Requirement already satisfied: pydantic>=2.8.0 in c:\\users\\sayan\\appdata\\roaming\\python\\python313\\site-packages (from llama-index-core<0.14,>=0.13.3->llama-index) (2.11.7)\n",
      "Requirement already satisfied: pyyaml>=6.0.1 in c:\\users\\sayan\\appdata\\roaming\\python\\python313\\site-packages (from llama-index-core<0.14,>=0.13.3->llama-index) (6.0.2)\n",
      "Requirement already satisfied: requests>=2.31.0 in c:\\users\\sayan\\appdata\\roaming\\python\\python313\\site-packages (from llama-index-core<0.14,>=0.13.3->llama-index) (2.32.3)\n",
      "Requirement already satisfied: setuptools>=80.9.0 in c:\\users\\sayan\\appdata\\roaming\\python\\python313\\site-packages (from llama-index-core<0.14,>=0.13.3->llama-index) (80.9.0)\n",
      "Requirement already satisfied: sqlalchemy>=1.4.49 in c:\\users\\sayan\\appdata\\roaming\\python\\python313\\site-packages (from sqlalchemy[asyncio]>=1.4.49->llama-index-core<0.14,>=0.13.3->llama-index) (2.0.43)\n",
      "Requirement already satisfied: tenacity!=8.4.0,<10.0.0,>=8.2.0 in c:\\users\\sayan\\appdata\\roaming\\python\\python313\\site-packages (from llama-index-core<0.14,>=0.13.3->llama-index) (9.1.2)\n",
      "Requirement already satisfied: tiktoken>=0.7.0 in c:\\users\\sayan\\appdata\\roaming\\python\\python313\\site-packages (from llama-index-core<0.14,>=0.13.3->llama-index) (0.11.0)\n",
      "Requirement already satisfied: tqdm<5,>=4.66.1 in c:\\users\\sayan\\appdata\\roaming\\python\\python313\\site-packages (from llama-index-core<0.14,>=0.13.3->llama-index) (4.67.1)\n",
      "Requirement already satisfied: typing-extensions>=4.5.0 in c:\\users\\sayan\\appdata\\roaming\\python\\python313\\site-packages (from llama-index-core<0.14,>=0.13.3->llama-index) (4.13.0)\n",
      "Requirement already satisfied: typing-inspect>=0.8.0 in c:\\users\\sayan\\appdata\\roaming\\python\\python313\\site-packages (from llama-index-core<0.14,>=0.13.3->llama-index) (0.9.0)\n",
      "Requirement already satisfied: wrapt in c:\\users\\sayan\\appdata\\roaming\\python\\python313\\site-packages (from llama-index-core<0.14,>=0.13.3->llama-index) (1.17.3)\n",
      "Requirement already satisfied: aiohappyeyeballs>=2.5.0 in c:\\users\\sayan\\appdata\\roaming\\python\\python313\\site-packages (from aiohttp<4,>=3.8.6->llama-index-core<0.14,>=0.13.3->llama-index) (2.6.1)\n",
      "Requirement already satisfied: aiosignal>=1.4.0 in c:\\users\\sayan\\appdata\\roaming\\python\\python313\\site-packages (from aiohttp<4,>=3.8.6->llama-index-core<0.14,>=0.13.3->llama-index) (1.4.0)\n",
      "Requirement already satisfied: attrs>=17.3.0 in c:\\users\\sayan\\appdata\\roaming\\python\\python313\\site-packages (from aiohttp<4,>=3.8.6->llama-index-core<0.14,>=0.13.3->llama-index) (25.3.0)\n",
      "Requirement already satisfied: frozenlist>=1.1.1 in c:\\users\\sayan\\appdata\\roaming\\python\\python313\\site-packages (from aiohttp<4,>=3.8.6->llama-index-core<0.14,>=0.13.3->llama-index) (1.7.0)\n",
      "Requirement already satisfied: multidict<7.0,>=4.5 in c:\\users\\sayan\\appdata\\roaming\\python\\python313\\site-packages (from aiohttp<4,>=3.8.6->llama-index-core<0.14,>=0.13.3->llama-index) (6.6.4)\n",
      "Requirement already satisfied: propcache>=0.2.0 in c:\\users\\sayan\\appdata\\roaming\\python\\python313\\site-packages (from aiohttp<4,>=3.8.6->llama-index-core<0.14,>=0.13.3->llama-index) (0.3.2)\n",
      "Requirement already satisfied: yarl<2.0,>=1.17.0 in c:\\users\\sayan\\appdata\\roaming\\python\\python313\\site-packages (from aiohttp<4,>=3.8.6->llama-index-core<0.14,>=0.13.3->llama-index) (1.20.1)\n",
      "Requirement already satisfied: griffe in c:\\users\\sayan\\appdata\\roaming\\python\\python313\\site-packages (from banks<3,>=2.2.0->llama-index-core<0.14,>=0.13.3->llama-index) (1.12.1)\n",
      "Requirement already satisfied: jinja2 in c:\\users\\sayan\\appdata\\roaming\\python\\python313\\site-packages (from banks<3,>=2.2.0->llama-index-core<0.14,>=0.13.3->llama-index) (3.1.6)\n",
      "Requirement already satisfied: openai>=1.1.0 in c:\\users\\sayan\\appdata\\roaming\\python\\python313\\site-packages (from llama-index-embeddings-openai<0.6,>=0.5.0->llama-index) (1.101.0)\n",
      "Requirement already satisfied: beautifulsoup4<5,>=4.12.3 in c:\\users\\sayan\\appdata\\roaming\\python\\python313\\site-packages (from llama-index-readers-file<0.6,>=0.5.0->llama-index) (4.13.3)\n",
      "Requirement already satisfied: defusedxml>=0.7.1 in c:\\users\\sayan\\appdata\\roaming\\python\\python313\\site-packages (from llama-index-readers-file<0.6,>=0.5.0->llama-index) (0.7.1)\n",
      "Requirement already satisfied: pandas<2.3.0 in c:\\users\\sayan\\appdata\\roaming\\python\\python313\\site-packages (from llama-index-readers-file<0.6,>=0.5.0->llama-index) (2.2.3)\n",
      "Requirement already satisfied: pypdf<7,>=5.1.0 in c:\\users\\sayan\\appdata\\roaming\\python\\python313\\site-packages (from llama-index-readers-file<0.6,>=0.5.0->llama-index) (6.0.0)\n",
      "Requirement already satisfied: striprtf<0.0.27,>=0.0.26 in c:\\users\\sayan\\appdata\\roaming\\python\\python313\\site-packages (from llama-index-readers-file<0.6,>=0.5.0->llama-index) (0.0.26)\n",
      "Requirement already satisfied: soupsieve>1.2 in c:\\users\\sayan\\appdata\\roaming\\python\\python313\\site-packages (from beautifulsoup4<5,>=4.12.3->llama-index-readers-file<0.6,>=0.5.0->llama-index) (2.6)\n",
      "Requirement already satisfied: llama-index-instrumentation>=0.1.0 in c:\\users\\sayan\\appdata\\roaming\\python\\python313\\site-packages (from llama-index-workflows<2,>=1.0.1->llama-index-core<0.14,>=0.13.3->llama-index) (0.4.0)\n",
      "Requirement already satisfied: anyio<5,>=3.5.0 in c:\\users\\sayan\\appdata\\roaming\\python\\python313\\site-packages (from openai>=1.1.0->llama-index-embeddings-openai<0.6,>=0.5.0->llama-index) (4.9.0)\n",
      "Requirement already satisfied: distro<2,>=1.7.0 in c:\\users\\sayan\\appdata\\roaming\\python\\python313\\site-packages (from openai>=1.1.0->llama-index-embeddings-openai<0.6,>=0.5.0->llama-index) (1.9.0)\n",
      "Requirement already satisfied: jiter<1,>=0.4.0 in c:\\users\\sayan\\appdata\\roaming\\python\\python313\\site-packages (from openai>=1.1.0->llama-index-embeddings-openai<0.6,>=0.5.0->llama-index) (0.10.0)\n",
      "Requirement already satisfied: sniffio in c:\\users\\sayan\\appdata\\roaming\\python\\python313\\site-packages (from openai>=1.1.0->llama-index-embeddings-openai<0.6,>=0.5.0->llama-index) (1.3.1)\n",
      "Requirement already satisfied: idna>=2.8 in c:\\users\\sayan\\appdata\\roaming\\python\\python313\\site-packages (from anyio<5,>=3.5.0->openai>=1.1.0->llama-index-embeddings-openai<0.6,>=0.5.0->llama-index) (3.10)\n",
      "Requirement already satisfied: certifi in c:\\users\\sayan\\appdata\\roaming\\python\\python313\\site-packages (from httpx->llama-index-core<0.14,>=0.13.3->llama-index) (2025.1.31)\n",
      "Requirement already satisfied: httpcore==1.* in c:\\users\\sayan\\appdata\\roaming\\python\\python313\\site-packages (from httpx->llama-index-core<0.14,>=0.13.3->llama-index) (1.0.7)\n",
      "Requirement already satisfied: h11<0.15,>=0.13 in c:\\users\\sayan\\appdata\\roaming\\python\\python313\\site-packages (from httpcore==1.*->httpx->llama-index-core<0.14,>=0.13.3->llama-index) (0.14.0)\n",
      "Requirement already satisfied: python-dateutil>=2.8.2 in c:\\users\\sayan\\appdata\\roaming\\python\\python313\\site-packages (from pandas<2.3.0->llama-index-readers-file<0.6,>=0.5.0->llama-index) (2.9.0.post0)\n",
      "Requirement already satisfied: pytz>=2020.1 in c:\\users\\sayan\\appdata\\roaming\\python\\python313\\site-packages (from pandas<2.3.0->llama-index-readers-file<0.6,>=0.5.0->llama-index) (2025.2)\n",
      "Requirement already satisfied: tzdata>=2022.7 in c:\\users\\sayan\\appdata\\roaming\\python\\python313\\site-packages (from pandas<2.3.0->llama-index-readers-file<0.6,>=0.5.0->llama-index) (2025.2)\n",
      "Requirement already satisfied: annotated-types>=0.6.0 in c:\\users\\sayan\\appdata\\roaming\\python\\python313\\site-packages (from pydantic>=2.8.0->llama-index-core<0.14,>=0.13.3->llama-index) (0.7.0)\n",
      "Requirement already satisfied: pydantic-core==2.33.2 in c:\\users\\sayan\\appdata\\roaming\\python\\python313\\site-packages (from pydantic>=2.8.0->llama-index-core<0.14,>=0.13.3->llama-index) (2.33.2)\n",
      "Requirement already satisfied: typing-inspection>=0.4.0 in c:\\users\\sayan\\appdata\\roaming\\python\\python313\\site-packages (from pydantic>=2.8.0->llama-index-core<0.14,>=0.13.3->llama-index) (0.4.1)\n",
      "Requirement already satisfied: colorama in c:\\users\\sayan\\appdata\\roaming\\python\\python313\\site-packages (from tqdm<5,>=4.66.1->llama-index-core<0.14,>=0.13.3->llama-index) (0.4.6)\n",
      "Requirement already satisfied: pyvis<0.4,>=0.3.2 in c:\\users\\sayan\\appdata\\roaming\\python\\python313\\site-packages (from llama-index-utils-workflow) (0.3.2)\n",
      "Requirement already satisfied: ipython>=5.3.0 in c:\\users\\sayan\\appdata\\roaming\\python\\python313\\site-packages (from pyvis<0.4,>=0.3.2->llama-index-utils-workflow) (9.0.2)\n",
      "Requirement already satisfied: jsonpickle>=1.4.1 in c:\\users\\sayan\\appdata\\roaming\\python\\python313\\site-packages (from pyvis<0.4,>=0.3.2->llama-index-utils-workflow) (4.1.1)\n",
      "Requirement already satisfied: google-genai<2,>=1.24.0 in c:\\users\\sayan\\appdata\\roaming\\python\\python313\\site-packages (from llama-index-llms-google-genai) (1.31.0)\n",
      "Requirement already satisfied: google-auth<3.0.0,>=2.14.1 in c:\\users\\sayan\\appdata\\roaming\\python\\python313\\site-packages (from google-genai<2,>=1.24.0->llama-index-llms-google-genai) (2.40.3)\n",
      "Requirement already satisfied: websockets<15.1.0,>=13.0.0 in c:\\users\\sayan\\appdata\\roaming\\python\\python313\\site-packages (from google-genai<2,>=1.24.0->llama-index-llms-google-genai) (15.0.1)\n",
      "Requirement already satisfied: cachetools<6.0,>=2.0.0 in c:\\users\\sayan\\appdata\\roaming\\python\\python313\\site-packages (from google-auth<3.0.0,>=2.14.1->google-genai<2,>=1.24.0->llama-index-llms-google-genai) (5.5.2)\n",
      "Requirement already satisfied: pyasn1-modules>=0.2.1 in c:\\users\\sayan\\appdata\\roaming\\python\\python313\\site-packages (from google-auth<3.0.0,>=2.14.1->google-genai<2,>=1.24.0->llama-index-llms-google-genai) (0.4.2)\n",
      "Requirement already satisfied: rsa<5,>=3.1.4 in c:\\users\\sayan\\appdata\\roaming\\python\\python313\\site-packages (from google-auth<3.0.0,>=2.14.1->google-genai<2,>=1.24.0->llama-index-llms-google-genai) (4.9.1)\n",
      "Requirement already satisfied: charset-normalizer<4,>=2 in c:\\users\\sayan\\appdata\\roaming\\python\\python313\\site-packages (from requests>=2.31.0->llama-index-core<0.14,>=0.13.3->llama-index) (3.4.1)\n",
      "Requirement already satisfied: urllib3<3,>=1.21.1 in c:\\users\\sayan\\appdata\\roaming\\python\\python313\\site-packages (from requests>=2.31.0->llama-index-core<0.14,>=0.13.3->llama-index) (2.3.0)\n",
      "Requirement already satisfied: pyasn1>=0.1.3 in c:\\users\\sayan\\appdata\\roaming\\python\\python313\\site-packages (from rsa<5,>=3.1.4->google-auth<3.0.0,>=2.14.1->google-genai<2,>=1.24.0->llama-index-llms-google-genai) (0.6.1)\n",
      "Requirement already satisfied: google-api-python-client<3,>=2.115.0 in c:\\users\\sayan\\appdata\\roaming\\python\\python313\\site-packages (from llama-index-tools-google) (2.179.0)\n",
      "Requirement already satisfied: google-auth-httplib2<0.3,>=0.2.0 in c:\\users\\sayan\\appdata\\roaming\\python\\python313\\site-packages (from llama-index-tools-google) (0.2.0)\n",
      "Requirement already satisfied: google-auth-oauthlib<2,>=1.2.0 in c:\\users\\sayan\\appdata\\roaming\\python\\python313\\site-packages (from llama-index-tools-google) (1.2.2)\n",
      "Requirement already satisfied: httplib2<1.0.0,>=0.19.0 in c:\\users\\sayan\\appdata\\roaming\\python\\python313\\site-packages (from google-api-python-client<3,>=2.115.0->llama-index-tools-google) (0.22.0)\n",
      "Requirement already satisfied: google-api-core!=2.0.*,!=2.1.*,!=2.2.*,!=2.3.0,<3.0.0,>=1.31.5 in c:\\users\\sayan\\appdata\\roaming\\python\\python313\\site-packages (from google-api-python-client<3,>=2.115.0->llama-index-tools-google) (2.25.1)\n",
      "Requirement already satisfied: uritemplate<5,>=3.0.1 in c:\\users\\sayan\\appdata\\roaming\\python\\python313\\site-packages (from google-api-python-client<3,>=2.115.0->llama-index-tools-google) (4.2.0)\n",
      "Requirement already satisfied: googleapis-common-protos<2.0.0,>=1.56.2 in c:\\users\\sayan\\appdata\\roaming\\python\\python313\\site-packages (from google-api-core!=2.0.*,!=2.1.*,!=2.2.*,!=2.3.0,<3.0.0,>=1.31.5->google-api-python-client<3,>=2.115.0->llama-index-tools-google) (1.70.0)\n",
      "Requirement already satisfied: protobuf!=3.20.0,!=3.20.1,!=4.21.0,!=4.21.1,!=4.21.2,!=4.21.3,!=4.21.4,!=4.21.5,<7.0.0,>=3.19.5 in c:\\users\\sayan\\appdata\\roaming\\python\\python313\\site-packages (from google-api-core!=2.0.*,!=2.1.*,!=2.2.*,!=2.3.0,<3.0.0,>=1.31.5->google-api-python-client<3,>=2.115.0->llama-index-tools-google) (6.31.1)\n",
      "Requirement already satisfied: proto-plus<2.0.0,>=1.22.3 in c:\\users\\sayan\\appdata\\roaming\\python\\python313\\site-packages (from google-api-core!=2.0.*,!=2.1.*,!=2.2.*,!=2.3.0,<3.0.0,>=1.31.5->google-api-python-client<3,>=2.115.0->llama-index-tools-google) (1.26.1)\n",
      "Requirement already satisfied: requests-oauthlib>=0.7.0 in c:\\users\\sayan\\appdata\\roaming\\python\\python313\\site-packages (from google-auth-oauthlib<2,>=1.2.0->llama-index-tools-google) (2.0.0)\n",
      "Requirement already satisfied: pyparsing!=3.0.0,!=3.0.1,!=3.0.2,!=3.0.3,<4,>=2.4.2 in c:\\users\\sayan\\appdata\\roaming\\python\\python313\\site-packages (from httplib2<1.0.0,>=0.19.0->google-api-python-client<3,>=2.115.0->llama-index-tools-google) (3.2.3)\n",
      "Requirement already satisfied: decorator in c:\\users\\sayan\\appdata\\roaming\\python\\python313\\site-packages (from ipython>=5.3.0->pyvis<0.4,>=0.3.2->llama-index-utils-workflow) (5.2.1)\n",
      "Requirement already satisfied: ipython-pygments-lexers in c:\\users\\sayan\\appdata\\roaming\\python\\python313\\site-packages (from ipython>=5.3.0->pyvis<0.4,>=0.3.2->llama-index-utils-workflow) (1.1.1)\n",
      "Requirement already satisfied: jedi>=0.16 in c:\\users\\sayan\\appdata\\roaming\\python\\python313\\site-packages (from ipython>=5.3.0->pyvis<0.4,>=0.3.2->llama-index-utils-workflow) (0.19.2)\n",
      "Requirement already satisfied: matplotlib-inline in c:\\users\\sayan\\appdata\\roaming\\python\\python313\\site-packages (from ipython>=5.3.0->pyvis<0.4,>=0.3.2->llama-index-utils-workflow) (0.1.7)\n",
      "Requirement already satisfied: prompt_toolkit<3.1.0,>=3.0.41 in c:\\users\\sayan\\appdata\\roaming\\python\\python313\\site-packages (from ipython>=5.3.0->pyvis<0.4,>=0.3.2->llama-index-utils-workflow) (3.0.50)\n",
      "Requirement already satisfied: pygments>=2.4.0 in c:\\users\\sayan\\appdata\\roaming\\python\\python313\\site-packages (from ipython>=5.3.0->pyvis<0.4,>=0.3.2->llama-index-utils-workflow) (2.19.1)\n",
      "Requirement already satisfied: stack_data in c:\\users\\sayan\\appdata\\roaming\\python\\python313\\site-packages (from ipython>=5.3.0->pyvis<0.4,>=0.3.2->llama-index-utils-workflow) (0.6.3)\n",
      "Requirement already satisfied: traitlets>=5.13.0 in c:\\users\\sayan\\appdata\\roaming\\python\\python313\\site-packages (from ipython>=5.3.0->pyvis<0.4,>=0.3.2->llama-index-utils-workflow) (5.14.3)\n",
      "Requirement already satisfied: wcwidth in c:\\users\\sayan\\appdata\\roaming\\python\\python313\\site-packages (from prompt_toolkit<3.1.0,>=3.0.41->ipython>=5.3.0->pyvis<0.4,>=0.3.2->llama-index-utils-workflow) (0.2.13)\n",
      "Requirement already satisfied: parso<0.9.0,>=0.8.4 in c:\\users\\sayan\\appdata\\roaming\\python\\python313\\site-packages (from jedi>=0.16->ipython>=5.3.0->pyvis<0.4,>=0.3.2->llama-index-utils-workflow) (0.8.4)\n",
      "Requirement already satisfied: MarkupSafe>=2.0 in c:\\users\\sayan\\appdata\\roaming\\python\\python313\\site-packages (from jinja2->banks<3,>=2.2.0->llama-index-core<0.14,>=0.13.3->llama-index) (3.0.2)\n",
      "Requirement already satisfied: llama-cloud==0.1.35 in c:\\users\\sayan\\appdata\\roaming\\python\\python313\\site-packages (from llama-index-indices-managed-llama-cloud>=0.4.0->llama-index) (0.1.35)\n",
      "Requirement already satisfied: llama-parse>=0.5.0 in c:\\users\\sayan\\appdata\\roaming\\python\\python313\\site-packages (from llama-index-readers-llama-parse>=0.4.0->llama-index) (0.6.54)\n",
      "Requirement already satisfied: llama-cloud-services>=0.6.54 in c:\\users\\sayan\\appdata\\roaming\\python\\python313\\site-packages (from llama-parse>=0.5.0->llama-index-readers-llama-parse>=0.4.0->llama-index) (0.6.54)\n",
      "Requirement already satisfied: click<9,>=8.1.7 in c:\\users\\sayan\\appdata\\roaming\\python\\python313\\site-packages (from llama-cloud-services>=0.6.54->llama-parse>=0.5.0->llama-index-readers-llama-parse>=0.4.0->llama-index) (8.1.8)\n",
      "Requirement already satisfied: python-dotenv<2,>=1.0.1 in c:\\users\\sayan\\appdata\\roaming\\python\\python313\\site-packages (from llama-cloud-services>=0.6.54->llama-parse>=0.5.0->llama-index-readers-llama-parse>=0.4.0->llama-index) (1.1.1)\n",
      "Requirement already satisfied: joblib in c:\\users\\sayan\\appdata\\roaming\\python\\python313\\site-packages (from nltk>3.8.1->llama-index) (1.4.2)\n",
      "Requirement already satisfied: regex>=2021.8.3 in c:\\users\\sayan\\appdata\\roaming\\python\\python313\\site-packages (from nltk>3.8.1->llama-index) (2025.7.34)\n",
      "Requirement already satisfied: six>=1.5 in c:\\users\\sayan\\appdata\\roaming\\python\\python313\\site-packages (from python-dateutil>=2.8.2->pandas<2.3.0->llama-index-readers-file<0.6,>=0.5.0->llama-index) (1.17.0)\n",
      "Requirement already satisfied: oauthlib>=3.0.0 in c:\\users\\sayan\\appdata\\roaming\\python\\python313\\site-packages (from requests-oauthlib>=0.7.0->google-auth-oauthlib<2,>=1.2.0->llama-index-tools-google) (3.3.1)\n",
      "Requirement already satisfied: greenlet>=1 in c:\\users\\sayan\\appdata\\roaming\\python\\python313\\site-packages (from sqlalchemy>=1.4.49->sqlalchemy[asyncio]>=1.4.49->llama-index-core<0.14,>=0.13.3->llama-index) (3.2.4)\n",
      "Requirement already satisfied: mypy-extensions>=0.3.0 in c:\\users\\sayan\\appdata\\roaming\\python\\python313\\site-packages (from typing-inspect>=0.8.0->llama-index-core<0.14,>=0.13.3->llama-index) (1.1.0)\n",
      "Requirement already satisfied: marshmallow<4.0.0,>=3.18.0 in c:\\users\\sayan\\appdata\\roaming\\python\\python313\\site-packages (from dataclasses-json->llama-index-core<0.14,>=0.13.3->llama-index) (3.26.1)\n",
      "Requirement already satisfied: packaging>=17.0 in c:\\users\\sayan\\appdata\\roaming\\python\\python313\\site-packages (from marshmallow<4.0.0,>=3.18.0->dataclasses-json->llama-index-core<0.14,>=0.13.3->llama-index) (24.2)\n",
      "Requirement already satisfied: executing>=1.2.0 in c:\\users\\sayan\\appdata\\roaming\\python\\python313\\site-packages (from stack_data->ipython>=5.3.0->pyvis<0.4,>=0.3.2->llama-index-utils-workflow) (2.2.0)\n",
      "Requirement already satisfied: asttokens>=2.1.0 in c:\\users\\sayan\\appdata\\roaming\\python\\python313\\site-packages (from stack_data->ipython>=5.3.0->pyvis<0.4,>=0.3.2->llama-index-utils-workflow) (3.0.0)\n",
      "Requirement already satisfied: pure-eval in c:\\users\\sayan\\appdata\\roaming\\python\\python313\\site-packages (from stack_data->ipython>=5.3.0->pyvis<0.4,>=0.3.2->llama-index-utils-workflow) (0.2.3)\n",
      "Downloading llama_index_utils_workflow-0.4.0-py3-none-any.whl (7.7 kB)\n",
      "Downloading llama_index_tools_google-0.6.0-py3-none-any.whl (9.9 kB)\n",
      "Installing collected packages: llama-index-utils-workflow, llama-index-tools-google\n",
      "\n",
      "   -------------------- ------------------- 1/2 [llama-index-tools-google]\n",
      "   ---------------------------------------- 2/2 [llama-index-tools-google]\n",
      "\n",
      "Successfully installed llama-index-tools-google-0.6.0 llama-index-utils-workflow-0.4.0\n"
     ]
    }
   ],
   "source": [
    "!pip install llama-index llama-index-utils-workflow llama-index-llms-google-genai llama-index-tools-google"
   ]
  },
  {
   "cell_type": "markdown",
   "id": "54baffd0",
   "metadata": {},
   "source": [
    "Set up Gemini 2.5 Pro in LlamaIndex\n",
    "The engine of any LlamaIndex agent is an LLM that handles reasoning and text processing. This example uses Gemini 2.5 Pro. Make sure you set your API key as an environment variable."
   ]
  },
  {
   "cell_type": "code",
   "execution_count": null,
   "metadata": {},
   "outputs": [],
   "source": [
    "import os\n",
    "from dotenv import load_dotenv\n",
    "\n",
    "# Load environment variables from .env file\n",
    "load_dotenv('.env')\n",
    "api_key = os.getenv('api_key')\n",
    "\n",
    "if not api_key:\n",
    "    raise ValueError(\"API key not found in environment variables. Please check your .env file.\")\n",
    "\n",
    "print(\"\u2705 API key loaded successfully\")"
   ]
  },
  {
   "cell_type": "code",
   "execution_count": 19,
   "id": "5446091e",
   "metadata": {},
   "outputs": [
    {
     "ename": "ValueError",
     "evalue": "Missing key inputs argument! To use the Google AI API, provide (`api_key`) arguments. To use the Google Cloud API, provide (`vertexai`, `project` & `location`) arguments.",
     "output_type": "error",
     "traceback": [
      "\u001b[31m---------------------------------------------------------------------------\u001b[39m",
      "\u001b[31mValueError\u001b[39m                                Traceback (most recent call last)",
      "\u001b[36mCell\u001b[39m\u001b[36m \u001b[39m\u001b[32mIn[19]\u001b[39m\u001b[32m, line 3\u001b[39m\n\u001b[32m      1\u001b[39m \u001b[38;5;28;01mfrom\u001b[39;00m\u001b[38;5;250m \u001b[39m\u001b[34;01mllama_index\u001b[39;00m\u001b[34;01m.\u001b[39;00m\u001b[34;01mllms\u001b[39;00m\u001b[34;01m.\u001b[39;00m\u001b[34;01mgoogle_genai\u001b[39;00m\u001b[38;5;250m \u001b[39m\u001b[38;5;28;01mimport\u001b[39;00m GoogleGenAI\n\u001b[32m----> \u001b[39m\u001b[32m3\u001b[39m llm = \u001b[43mGoogleGenAI\u001b[49m\u001b[43m(\u001b[49m\u001b[43mmodel\u001b[49m\u001b[43m=\u001b[49m\u001b[33;43m\"\u001b[39;49m\u001b[33;43mgemini-2.5-pro\u001b[39;49m\u001b[33;43m\"\u001b[39;49m\u001b[43m)\u001b[49m\n",
      "\u001b[36mFile \u001b[39m\u001b[32m~\\AppData\\Roaming\\Python\\Python313\\site-packages\\llama_index\\llms\\google_genai\\base.py:196\u001b[39m, in \u001b[36mGoogleGenAI.__init__\u001b[39m\u001b[34m(self, model, api_key, temperature, max_tokens, context_window, max_retries, vertexai_config, http_options, debug_config, generation_config, callback_manager, is_function_calling_model, cached_content, built_in_tool, **kwargs)\u001b[39m\n\u001b[32m    193\u001b[39m \u001b[38;5;28;01mif\u001b[39;00m debug_config:\n\u001b[32m    194\u001b[39m     config_params[\u001b[33m\"\u001b[39m\u001b[33mdebug_config\u001b[39m\u001b[33m\"\u001b[39m] = debug_config\n\u001b[32m--> \u001b[39m\u001b[32m196\u001b[39m client = \u001b[43mgoogle\u001b[49m\u001b[43m.\u001b[49m\u001b[43mgenai\u001b[49m\u001b[43m.\u001b[49m\u001b[43mClient\u001b[49m\u001b[43m(\u001b[49m\u001b[43m*\u001b[49m\u001b[43m*\u001b[49m\u001b[43mconfig_params\u001b[49m\u001b[43m)\u001b[49m\n\u001b[32m    197\u001b[39m model_meta = client.models.get(model=model)\n\u001b[32m    199\u001b[39m \u001b[38;5;28msuper\u001b[39m().\u001b[34m__init__\u001b[39m(\n\u001b[32m    200\u001b[39m     model=model,\n\u001b[32m    201\u001b[39m     temperature=temperature,\n\u001b[32m   (...)\u001b[39m\u001b[32m    208\u001b[39m     **kwargs,\n\u001b[32m    209\u001b[39m )\n",
      "\u001b[36mFile \u001b[39m\u001b[32m~\\AppData\\Roaming\\Python\\Python313\\site-packages\\google\\genai\\client.py:219\u001b[39m, in \u001b[36mClient.__init__\u001b[39m\u001b[34m(self, vertexai, api_key, credentials, project, location, debug_config, http_options)\u001b[39m\n\u001b[32m    216\u001b[39m   \u001b[38;5;28;01melse\u001b[39;00m:\n\u001b[32m    217\u001b[39m     http_options = HttpOptions(base_url=base_url)\n\u001b[32m--> \u001b[39m\u001b[32m219\u001b[39m \u001b[38;5;28mself\u001b[39m._api_client = \u001b[38;5;28;43mself\u001b[39;49m\u001b[43m.\u001b[49m\u001b[43m_get_api_client\u001b[49m\u001b[43m(\u001b[49m\n\u001b[32m    220\u001b[39m \u001b[43m    \u001b[49m\u001b[43mvertexai\u001b[49m\u001b[43m=\u001b[49m\u001b[43mvertexai\u001b[49m\u001b[43m,\u001b[49m\n\u001b[32m    221\u001b[39m \u001b[43m    \u001b[49m\u001b[43mapi_key\u001b[49m\u001b[43m=\u001b[49m\u001b[43mapi_key\u001b[49m\u001b[43m,\u001b[49m\n\u001b[32m    222\u001b[39m \u001b[43m    \u001b[49m\u001b[43mcredentials\u001b[49m\u001b[43m=\u001b[49m\u001b[43mcredentials\u001b[49m\u001b[43m,\u001b[49m\n\u001b[32m    223\u001b[39m \u001b[43m    \u001b[49m\u001b[43mproject\u001b[49m\u001b[43m=\u001b[49m\u001b[43mproject\u001b[49m\u001b[43m,\u001b[49m\n\u001b[32m    224\u001b[39m \u001b[43m    \u001b[49m\u001b[43mlocation\u001b[49m\u001b[43m=\u001b[49m\u001b[43mlocation\u001b[49m\u001b[43m,\u001b[49m\n\u001b[32m    225\u001b[39m \u001b[43m    \u001b[49m\u001b[43mdebug_config\u001b[49m\u001b[43m=\u001b[49m\u001b[38;5;28;43mself\u001b[39;49m\u001b[43m.\u001b[49m\u001b[43m_debug_config\u001b[49m\u001b[43m,\u001b[49m\n\u001b[32m    226\u001b[39m \u001b[43m    \u001b[49m\u001b[43mhttp_options\u001b[49m\u001b[43m=\u001b[49m\u001b[43mhttp_options\u001b[49m\u001b[43m,\u001b[49m\n\u001b[32m    227\u001b[39m \u001b[43m\u001b[49m\u001b[43m)\u001b[49m\n\u001b[32m    229\u001b[39m \u001b[38;5;28mself\u001b[39m._aio = AsyncClient(\u001b[38;5;28mself\u001b[39m._api_client)\n\u001b[32m    230\u001b[39m \u001b[38;5;28mself\u001b[39m._models = Models(\u001b[38;5;28mself\u001b[39m._api_client)\n",
      "\u001b[36mFile \u001b[39m\u001b[32m~\\AppData\\Roaming\\Python\\Python313\\site-packages\\google\\genai\\client.py:265\u001b[39m, in \u001b[36mClient._get_api_client\u001b[39m\u001b[34m(vertexai, api_key, credentials, project, location, debug_config, http_options)\u001b[39m\n\u001b[32m    248\u001b[39m \u001b[38;5;28;01mif\u001b[39;00m debug_config \u001b[38;5;129;01mand\u001b[39;00m debug_config.client_mode \u001b[38;5;129;01min\u001b[39;00m [\n\u001b[32m    249\u001b[39m     \u001b[33m'\u001b[39m\u001b[33mrecord\u001b[39m\u001b[33m'\u001b[39m,\n\u001b[32m    250\u001b[39m     \u001b[33m'\u001b[39m\u001b[33mreplay\u001b[39m\u001b[33m'\u001b[39m,\n\u001b[32m    251\u001b[39m     \u001b[33m'\u001b[39m\u001b[33mauto\u001b[39m\u001b[33m'\u001b[39m,\n\u001b[32m    252\u001b[39m ]:\n\u001b[32m    253\u001b[39m   \u001b[38;5;28;01mreturn\u001b[39;00m ReplayApiClient(\n\u001b[32m    254\u001b[39m       mode=debug_config.client_mode,  \u001b[38;5;66;03m# type: ignore[arg-type]\u001b[39;00m\n\u001b[32m    255\u001b[39m       replay_id=debug_config.replay_id,  \u001b[38;5;66;03m# type: ignore[arg-type]\u001b[39;00m\n\u001b[32m   (...)\u001b[39m\u001b[32m    262\u001b[39m       http_options=http_options,\n\u001b[32m    263\u001b[39m   )\n\u001b[32m--> \u001b[39m\u001b[32m265\u001b[39m \u001b[38;5;28;01mreturn\u001b[39;00m \u001b[43mBaseApiClient\u001b[49m\u001b[43m(\u001b[49m\n\u001b[32m    266\u001b[39m \u001b[43m    \u001b[49m\u001b[43mvertexai\u001b[49m\u001b[43m=\u001b[49m\u001b[43mvertexai\u001b[49m\u001b[43m,\u001b[49m\n\u001b[32m    267\u001b[39m \u001b[43m    \u001b[49m\u001b[43mapi_key\u001b[49m\u001b[43m=\u001b[49m\u001b[43mapi_key\u001b[49m\u001b[43m,\u001b[49m\n\u001b[32m    268\u001b[39m \u001b[43m    \u001b[49m\u001b[43mcredentials\u001b[49m\u001b[43m=\u001b[49m\u001b[43mcredentials\u001b[49m\u001b[43m,\u001b[49m\n\u001b[32m    269\u001b[39m \u001b[43m    \u001b[49m\u001b[43mproject\u001b[49m\u001b[43m=\u001b[49m\u001b[43mproject\u001b[49m\u001b[43m,\u001b[49m\n\u001b[32m    270\u001b[39m \u001b[43m    \u001b[49m\u001b[43mlocation\u001b[49m\u001b[43m=\u001b[49m\u001b[43mlocation\u001b[49m\u001b[43m,\u001b[49m\n\u001b[32m    271\u001b[39m \u001b[43m    \u001b[49m\u001b[43mhttp_options\u001b[49m\u001b[43m=\u001b[49m\u001b[43mhttp_options\u001b[49m\u001b[43m,\u001b[49m\n\u001b[32m    272\u001b[39m \u001b[43m\u001b[49m\u001b[43m)\u001b[49m\n",
      "\u001b[36mFile \u001b[39m\u001b[32m~\\AppData\\Roaming\\Python\\Python313\\site-packages\\google\\genai\\_api_client.py:658\u001b[39m, in \u001b[36mBaseApiClient.__init__\u001b[39m\u001b[34m(self, vertexai, api_key, credentials, project, location, http_options)\u001b[39m\n\u001b[32m    656\u001b[39m \u001b[38;5;28;01melse\u001b[39;00m:  \u001b[38;5;66;03m# Implicit initialization or missing arguments.\u001b[39;00m\n\u001b[32m    657\u001b[39m   \u001b[38;5;28;01mif\u001b[39;00m \u001b[38;5;129;01mnot\u001b[39;00m \u001b[38;5;28mself\u001b[39m.api_key:\n\u001b[32m--> \u001b[39m\u001b[32m658\u001b[39m     \u001b[38;5;28;01mraise\u001b[39;00m \u001b[38;5;167;01mValueError\u001b[39;00m(\n\u001b[32m    659\u001b[39m         \u001b[33m'\u001b[39m\u001b[33mMissing key inputs argument! To use the Google AI API,\u001b[39m\u001b[33m'\u001b[39m\n\u001b[32m    660\u001b[39m         \u001b[33m'\u001b[39m\u001b[33m provide (`api_key`) arguments. To use the Google Cloud API,\u001b[39m\u001b[33m'\u001b[39m\n\u001b[32m    661\u001b[39m         \u001b[33m'\u001b[39m\u001b[33m provide (`vertexai`, `project` & `location`) arguments.\u001b[39m\u001b[33m'\u001b[39m\n\u001b[32m    662\u001b[39m     )\n\u001b[32m    663\u001b[39m   \u001b[38;5;28mself\u001b[39m._http_options.base_url = \u001b[33m'\u001b[39m\u001b[33mhttps://generativelanguage.googleapis.com/\u001b[39m\u001b[33m'\u001b[39m\n\u001b[32m    664\u001b[39m   \u001b[38;5;28mself\u001b[39m._http_options.api_version = \u001b[33m'\u001b[39m\u001b[33mv1beta\u001b[39m\u001b[33m'\u001b[39m\n",
      "\u001b[31mValueError\u001b[39m: Missing key inputs argument! To use the Google AI API, provide (`api_key`) arguments. To use the Google Cloud API, provide (`vertexai`, `project` & `location`) arguments."
     ]
    }
   ],
   "source": "from llama_index.llms.google_genai import GoogleGenAI\n\nllm = GoogleGenAI(model=\"gemini-2.5-pro\", api_key=api_key)"
  },
  {
   "cell_type": "markdown",
   "id": "e7adc7be",
   "metadata": {},
   "source": [
    "Build tools\n",
    "Agents use tools to interact with the outside world, like searching the web or storing information. Tools in LlamaIndex can be regular Python functions, or imported from pre-existing ToolSpecs. Gemini comes with a built-in tool for using Google Search which is used here."
   ]
  },
  {
   "cell_type": "code",
   "execution_count": 3,
   "id": "b0f851e6",
   "metadata": {},
   "outputs": [
    {
     "ename": "ValueError",
     "evalue": "Missing key inputs argument! To use the Google AI API, provide (`api_key`) arguments. To use the Google Cloud API, provide (`vertexai`, `project` & `location`) arguments.",
     "output_type": "error",
     "traceback": [
      "\u001b[31m---------------------------------------------------------------------------\u001b[39m",
      "\u001b[31mValueError\u001b[39m                                Traceback (most recent call last)",
      "\u001b[36mCell\u001b[39m\u001b[36m \u001b[39m\u001b[32mIn[3]\u001b[39m\u001b[32m, line 7\u001b[39m\n\u001b[32m      1\u001b[39m \u001b[38;5;28;01mfrom\u001b[39;00m\u001b[38;5;250m \u001b[39m\u001b[34;01mgoogle\u001b[39;00m\u001b[34;01m.\u001b[39;00m\u001b[34;01mgenai\u001b[39;00m\u001b[38;5;250m \u001b[39m\u001b[38;5;28;01mimport\u001b[39;00m types\n\u001b[32m      3\u001b[39m google_search_tool = types.Tool(\n\u001b[32m      4\u001b[39m     google_search=types.GoogleSearch()\n\u001b[32m      5\u001b[39m )\n\u001b[32m----> \u001b[39m\u001b[32m7\u001b[39m llm_with_search = \u001b[43mGoogleGenAI\u001b[49m\u001b[43m(\u001b[49m\n\u001b[32m      8\u001b[39m \u001b[43m    \u001b[49m\u001b[43mmodel\u001b[49m\u001b[43m=\u001b[49m\u001b[33;43m\"\u001b[39;49m\u001b[33;43mgemini-2.5-pro\u001b[39;49m\u001b[33;43m\"\u001b[39;49m\u001b[43m,\u001b[49m\n\u001b[32m      9\u001b[39m \u001b[43m    \u001b[49m\u001b[43mgeneration_config\u001b[49m\u001b[43m=\u001b[49m\u001b[43mtypes\u001b[49m\u001b[43m.\u001b[49m\u001b[43mGenerateContentConfig\u001b[49m\u001b[43m(\u001b[49m\u001b[43mtools\u001b[49m\u001b[43m=\u001b[49m\u001b[43m[\u001b[49m\u001b[43mgoogle_search_tool\u001b[49m\u001b[43m]\u001b[49m\u001b[43m)\u001b[49m\n\u001b[32m     10\u001b[39m \u001b[43m)\u001b[49m\n",
      "\u001b[36mFile \u001b[39m\u001b[32m~\\AppData\\Roaming\\Python\\Python313\\site-packages\\llama_index\\llms\\google_genai\\base.py:196\u001b[39m, in \u001b[36mGoogleGenAI.__init__\u001b[39m\u001b[34m(self, model, api_key, temperature, max_tokens, context_window, max_retries, vertexai_config, http_options, debug_config, generation_config, callback_manager, is_function_calling_model, cached_content, built_in_tool, **kwargs)\u001b[39m\n\u001b[32m    193\u001b[39m \u001b[38;5;28;01mif\u001b[39;00m debug_config:\n\u001b[32m    194\u001b[39m     config_params[\u001b[33m\"\u001b[39m\u001b[33mdebug_config\u001b[39m\u001b[33m\"\u001b[39m] = debug_config\n\u001b[32m--> \u001b[39m\u001b[32m196\u001b[39m client = \u001b[43mgoogle\u001b[49m\u001b[43m.\u001b[49m\u001b[43mgenai\u001b[49m\u001b[43m.\u001b[49m\u001b[43mClient\u001b[49m\u001b[43m(\u001b[49m\u001b[43m*\u001b[49m\u001b[43m*\u001b[49m\u001b[43mconfig_params\u001b[49m\u001b[43m)\u001b[49m\n\u001b[32m    197\u001b[39m model_meta = client.models.get(model=model)\n\u001b[32m    199\u001b[39m \u001b[38;5;28msuper\u001b[39m().\u001b[34m__init__\u001b[39m(\n\u001b[32m    200\u001b[39m     model=model,\n\u001b[32m    201\u001b[39m     temperature=temperature,\n\u001b[32m   (...)\u001b[39m\u001b[32m    208\u001b[39m     **kwargs,\n\u001b[32m    209\u001b[39m )\n",
      "\u001b[36mFile \u001b[39m\u001b[32m~\\AppData\\Roaming\\Python\\Python313\\site-packages\\google\\genai\\client.py:219\u001b[39m, in \u001b[36mClient.__init__\u001b[39m\u001b[34m(self, vertexai, api_key, credentials, project, location, debug_config, http_options)\u001b[39m\n\u001b[32m    216\u001b[39m   \u001b[38;5;28;01melse\u001b[39;00m:\n\u001b[32m    217\u001b[39m     http_options = HttpOptions(base_url=base_url)\n\u001b[32m--> \u001b[39m\u001b[32m219\u001b[39m \u001b[38;5;28mself\u001b[39m._api_client = \u001b[38;5;28;43mself\u001b[39;49m\u001b[43m.\u001b[49m\u001b[43m_get_api_client\u001b[49m\u001b[43m(\u001b[49m\n\u001b[32m    220\u001b[39m \u001b[43m    \u001b[49m\u001b[43mvertexai\u001b[49m\u001b[43m=\u001b[49m\u001b[43mvertexai\u001b[49m\u001b[43m,\u001b[49m\n\u001b[32m    221\u001b[39m \u001b[43m    \u001b[49m\u001b[43mapi_key\u001b[49m\u001b[43m=\u001b[49m\u001b[43mapi_key\u001b[49m\u001b[43m,\u001b[49m\n\u001b[32m    222\u001b[39m \u001b[43m    \u001b[49m\u001b[43mcredentials\u001b[49m\u001b[43m=\u001b[49m\u001b[43mcredentials\u001b[49m\u001b[43m,\u001b[49m\n\u001b[32m    223\u001b[39m \u001b[43m    \u001b[49m\u001b[43mproject\u001b[49m\u001b[43m=\u001b[49m\u001b[43mproject\u001b[49m\u001b[43m,\u001b[49m\n\u001b[32m    224\u001b[39m \u001b[43m    \u001b[49m\u001b[43mlocation\u001b[49m\u001b[43m=\u001b[49m\u001b[43mlocation\u001b[49m\u001b[43m,\u001b[49m\n\u001b[32m    225\u001b[39m \u001b[43m    \u001b[49m\u001b[43mdebug_config\u001b[49m\u001b[43m=\u001b[49m\u001b[38;5;28;43mself\u001b[39;49m\u001b[43m.\u001b[49m\u001b[43m_debug_config\u001b[49m\u001b[43m,\u001b[49m\n\u001b[32m    226\u001b[39m \u001b[43m    \u001b[49m\u001b[43mhttp_options\u001b[49m\u001b[43m=\u001b[49m\u001b[43mhttp_options\u001b[49m\u001b[43m,\u001b[49m\n\u001b[32m    227\u001b[39m \u001b[43m\u001b[49m\u001b[43m)\u001b[49m\n\u001b[32m    229\u001b[39m \u001b[38;5;28mself\u001b[39m._aio = AsyncClient(\u001b[38;5;28mself\u001b[39m._api_client)\n\u001b[32m    230\u001b[39m \u001b[38;5;28mself\u001b[39m._models = Models(\u001b[38;5;28mself\u001b[39m._api_client)\n",
      "\u001b[36mFile \u001b[39m\u001b[32m~\\AppData\\Roaming\\Python\\Python313\\site-packages\\google\\genai\\client.py:265\u001b[39m, in \u001b[36mClient._get_api_client\u001b[39m\u001b[34m(vertexai, api_key, credentials, project, location, debug_config, http_options)\u001b[39m\n\u001b[32m    248\u001b[39m \u001b[38;5;28;01mif\u001b[39;00m debug_config \u001b[38;5;129;01mand\u001b[39;00m debug_config.client_mode \u001b[38;5;129;01min\u001b[39;00m [\n\u001b[32m    249\u001b[39m     \u001b[33m'\u001b[39m\u001b[33mrecord\u001b[39m\u001b[33m'\u001b[39m,\n\u001b[32m    250\u001b[39m     \u001b[33m'\u001b[39m\u001b[33mreplay\u001b[39m\u001b[33m'\u001b[39m,\n\u001b[32m    251\u001b[39m     \u001b[33m'\u001b[39m\u001b[33mauto\u001b[39m\u001b[33m'\u001b[39m,\n\u001b[32m    252\u001b[39m ]:\n\u001b[32m    253\u001b[39m   \u001b[38;5;28;01mreturn\u001b[39;00m ReplayApiClient(\n\u001b[32m    254\u001b[39m       mode=debug_config.client_mode,  \u001b[38;5;66;03m# type: ignore[arg-type]\u001b[39;00m\n\u001b[32m    255\u001b[39m       replay_id=debug_config.replay_id,  \u001b[38;5;66;03m# type: ignore[arg-type]\u001b[39;00m\n\u001b[32m   (...)\u001b[39m\u001b[32m    262\u001b[39m       http_options=http_options,\n\u001b[32m    263\u001b[39m   )\n\u001b[32m--> \u001b[39m\u001b[32m265\u001b[39m \u001b[38;5;28;01mreturn\u001b[39;00m \u001b[43mBaseApiClient\u001b[49m\u001b[43m(\u001b[49m\n\u001b[32m    266\u001b[39m \u001b[43m    \u001b[49m\u001b[43mvertexai\u001b[49m\u001b[43m=\u001b[49m\u001b[43mvertexai\u001b[49m\u001b[43m,\u001b[49m\n\u001b[32m    267\u001b[39m \u001b[43m    \u001b[49m\u001b[43mapi_key\u001b[49m\u001b[43m=\u001b[49m\u001b[43mapi_key\u001b[49m\u001b[43m,\u001b[49m\n\u001b[32m    268\u001b[39m \u001b[43m    \u001b[49m\u001b[43mcredentials\u001b[49m\u001b[43m=\u001b[49m\u001b[43mcredentials\u001b[49m\u001b[43m,\u001b[49m\n\u001b[32m    269\u001b[39m \u001b[43m    \u001b[49m\u001b[43mproject\u001b[49m\u001b[43m=\u001b[49m\u001b[43mproject\u001b[49m\u001b[43m,\u001b[49m\n\u001b[32m    270\u001b[39m \u001b[43m    \u001b[49m\u001b[43mlocation\u001b[49m\u001b[43m=\u001b[49m\u001b[43mlocation\u001b[49m\u001b[43m,\u001b[49m\n\u001b[32m    271\u001b[39m \u001b[43m    \u001b[49m\u001b[43mhttp_options\u001b[49m\u001b[43m=\u001b[49m\u001b[43mhttp_options\u001b[49m\u001b[43m,\u001b[49m\n\u001b[32m    272\u001b[39m \u001b[43m\u001b[49m\u001b[43m)\u001b[49m\n",
      "\u001b[36mFile \u001b[39m\u001b[32m~\\AppData\\Roaming\\Python\\Python313\\site-packages\\google\\genai\\_api_client.py:658\u001b[39m, in \u001b[36mBaseApiClient.__init__\u001b[39m\u001b[34m(self, vertexai, api_key, credentials, project, location, http_options)\u001b[39m\n\u001b[32m    656\u001b[39m \u001b[38;5;28;01melse\u001b[39;00m:  \u001b[38;5;66;03m# Implicit initialization or missing arguments.\u001b[39;00m\n\u001b[32m    657\u001b[39m   \u001b[38;5;28;01mif\u001b[39;00m \u001b[38;5;129;01mnot\u001b[39;00m \u001b[38;5;28mself\u001b[39m.api_key:\n\u001b[32m--> \u001b[39m\u001b[32m658\u001b[39m     \u001b[38;5;28;01mraise\u001b[39;00m \u001b[38;5;167;01mValueError\u001b[39;00m(\n\u001b[32m    659\u001b[39m         \u001b[33m'\u001b[39m\u001b[33mMissing key inputs argument! To use the Google AI API,\u001b[39m\u001b[33m'\u001b[39m\n\u001b[32m    660\u001b[39m         \u001b[33m'\u001b[39m\u001b[33m provide (`api_key`) arguments. To use the Google Cloud API,\u001b[39m\u001b[33m'\u001b[39m\n\u001b[32m    661\u001b[39m         \u001b[33m'\u001b[39m\u001b[33m provide (`vertexai`, `project` & `location`) arguments.\u001b[39m\u001b[33m'\u001b[39m\n\u001b[32m    662\u001b[39m     )\n\u001b[32m    663\u001b[39m   \u001b[38;5;28mself\u001b[39m._http_options.base_url = \u001b[33m'\u001b[39m\u001b[33mhttps://generativelanguage.googleapis.com/\u001b[39m\u001b[33m'\u001b[39m\n\u001b[32m    664\u001b[39m   \u001b[38;5;28mself\u001b[39m._http_options.api_version = \u001b[33m'\u001b[39m\u001b[33mv1beta\u001b[39m\u001b[33m'\u001b[39m\n",
      "\u001b[31mValueError\u001b[39m: Missing key inputs argument! To use the Google AI API, provide (`api_key`) arguments. To use the Google Cloud API, provide (`vertexai`, `project` & `location`) arguments."
     ]
    }
   ],
   "source": "from google.genai import types\n\ngoogle_search_tool = types.Tool(\n    google_search=types.GoogleSearch()\n)\n\nllm_with_search = GoogleGenAI(\n    model=\"gemini-2.5-pro\",\n    api_key=api_key,\n    generation_config=types.GenerateContentConfig(tools=[google_search_tool])\n)"
  },
  {
   "cell_type": "markdown",
   "id": "51d0ec5d",
   "metadata": {},
   "source": [
    "Now test the LLM instance with a query that requires search:"
   ]
  },
  {
   "cell_type": "code",
   "execution_count": 4,
   "id": "b3a58d61",
   "metadata": {},
   "outputs": [
    {
     "ename": "NameError",
     "evalue": "name 'llm_with_search' is not defined",
     "output_type": "error",
     "traceback": [
      "\u001b[31m---------------------------------------------------------------------------\u001b[39m",
      "\u001b[31mNameError\u001b[39m                                 Traceback (most recent call last)",
      "\u001b[36mCell\u001b[39m\u001b[36m \u001b[39m\u001b[32mIn[4]\u001b[39m\u001b[32m, line 1\u001b[39m\n\u001b[32m----> \u001b[39m\u001b[32m1\u001b[39m response = \u001b[43mllm_with_search\u001b[49m.complete(\u001b[33m\"\u001b[39m\u001b[33mWhat\u001b[39m\u001b[33m'\u001b[39m\u001b[33ms the weather like today in Biarritz?\u001b[39m\u001b[33m\"\u001b[39m)\n\u001b[32m      2\u001b[39m \u001b[38;5;28mprint\u001b[39m(response)\n",
      "\u001b[31mNameError\u001b[39m: name 'llm_with_search' is not defined"
     ]
    }
   ],
   "source": [
    "response = llm_with_search.complete(\"What's the weather like today in Biarritz?\")\n",
    "print(response)"
   ]
  },
  {
   "cell_type": "markdown",
   "id": "af985f59",
   "metadata": {},
   "source": [
    "The Research Agent will use Python functions as tools. There are a lot of ways you could go about building a system to perform this task. In this example, you will use the following:\n",
    "\n",
    "search_web uses Gemini with Google Search to search the web for information on the given topic.\n",
    "record_notes saves research found on the web to the state so that the other tools can use it.\n",
    "write_report writes the report using the information found by the ResearchAgent\n",
    "review_report reviews the report and provides feedback.\n",
    "The Context class passes the state between agents/tools, and each agent will have access to the current state of the system."
   ]
  },
  {
   "cell_type": "code",
   "execution_count": null,
   "id": "6459074d",
   "metadata": {},
   "outputs": [],
   "source": [
    "from llama_index.core.workflow import Context\n",
    "\n",
    "async def search_web(ctx: Context, query: str) -> str:\n",
    "    \"\"\"Useful for searching the web about a specific query or topic\"\"\"\n",
    "    response = await llm_with_search.acomplete(f\"\"\"Please research given this query or topic,\n",
    "    and return the result\\n<query_or_topic>{query}</query_or_topic>\"\"\")\n",
    "    return response\n",
    "\n",
    "async def record_notes(ctx: Context, notes: str, notes_title: str) -> str:\n",
    "    \"\"\"Useful for recording notes on a given topic.\"\"\"\n",
    "    current_state = await ctx.store.get(\"state\")\n",
    "    if \"research_notes\" not in current_state:\n",
    "        current_state[\"research_notes\"] = {}\n",
    "    current_state[\"research_notes\"][notes_title] = notes\n",
    "    await ctx.store.set(\"state\", current_state)\n",
    "    return \"Notes recorded.\"\n",
    "\n",
    "async def write_report(ctx: Context, report_content: str) -> str:\n",
    "    \"\"\"Useful for writing a report on a given topic.\"\"\"\n",
    "    current_state = await ctx.store.get(\"state\")\n",
    "    current_state[\"report_content\"] = report_content\n",
    "    await ctx.store.set(\"state\", current_state)\n",
    "    return \"Report written.\"\n",
    "\n",
    "async def review_report(ctx: Context, review: str) -> str:\n",
    "    \"\"\"Useful for reviewing a report and providing feedback.\"\"\"\n",
    "    current_state = await ctx.store.get(\"state\")\n",
    "    current_state[\"review\"] = review\n",
    "    await ctx.store.set(\"state\", current_state)\n",
    "    return \"Report reviewed.\""
   ]
  },
  {
   "cell_type": "markdown",
   "id": "dc993b19",
   "metadata": {},
   "source": [
    "Build a multi-agent assistant\n",
    "To build a multi-agent system, you define the agents and their interactions. Your system will have three agents:\n",
    "\n",
    "A ResearchAgent searches the web for information on the given topic.\n",
    "A WriteAgent writes the report using the information found by the ResearchAgent.\n",
    "A ReviewAgent reviews the report and provides feedback.\n",
    "This example uses the AgentWorkflow class to create a multi-agent system that will execute these agents in order. Each agent takes a system_prompt that tells it what it should do, and suggests how to work with the other agents.\n",
    "\n",
    "Optionally, you can help your multi-agent system by specifying which other agents it can talk to using can_handoff_to (if not, it will try to figure this out on its own)."
   ]
  },
  {
   "cell_type": "code",
   "execution_count": null,
   "id": "4d94cbcc",
   "metadata": {},
   "outputs": [],
   "source": [
    "from llama_index.core.agent.workflow import (\n",
    "    AgentInput,\n",
    "    AgentOutput,\n",
    "    ToolCall,\n",
    "    ToolCallResult,\n",
    "    AgentStream,\n",
    ")\n",
    "from llama_index.core.agent.workflow import FunctionAgent, ReActAgent\n",
    "\n",
    "research_agent = FunctionAgent(\n",
    "    name=\"ResearchAgent\",\n",
    "    description=\"Useful for searching the web for information on a given topic and recording notes on the topic.\",\n",
    "    system_prompt=(\n",
    "        \"You are the ResearchAgent that can search the web for information on a given topic and record notes on the topic. \"\n",
    "        \"Once notes are recorded and you are satisfied, you should hand off control to the WriteAgent to write a report on the topic.\"\n",
    "    ),\n",
    "    llm=llm,\n",
    "    tools=[search_web, record_notes],\n",
    "    can_handoff_to=[\"WriteAgent\"],\n",
    ")\n",
    "\n",
    "write_agent = FunctionAgent(\n",
    "    name=\"WriteAgent\",\n",
    "    description=\"Useful for writing a report on a given topic.\",\n",
    "    system_prompt=(\n",
    "        \"You are the WriteAgent that can write a report on a given topic. \"\n",
    "        \"Your report should be in a markdown format. The content should be grounded in the research notes. \"\n",
    "        \"Once the report is written, you should get feedback at least once from the ReviewAgent.\"\n",
    "    ),\n",
    "    llm=llm,\n",
    "    tools=[write_report],\n",
    "    can_handoff_to=[\"ReviewAgent\", \"ResearchAgent\"],\n",
    ")\n",
    "\n",
    "review_agent = FunctionAgent(\n",
    "    name=\"ReviewAgent\",\n",
    "    description=\"Useful for reviewing a report and providing feedback.\",\n",
    "    system_prompt=(\n",
    "        \"You are the ReviewAgent that can review a report and provide feedback. \"\n",
    "        \"Your feedback should either approve the current report or request changes for the WriteAgent to implement.\"\n",
    "    ),\n",
    "    llm=llm,\n",
    "    tools=[review_report],\n",
    "    can_handoff_to=[\"ResearchAgent\",\"WriteAgent\"],\n",
    ")"
   ]
  },
  {
   "cell_type": "markdown",
   "id": "36a31e58",
   "metadata": {},
   "source": [
    "The Agents are defined, now you can create the AgentWorkflow and run it."
   ]
  },
  {
   "cell_type": "code",
   "execution_count": null,
   "id": "6267128c",
   "metadata": {},
   "outputs": [],
   "source": [
    "from llama_index.core.agent.workflow import AgentWorkflow\n",
    "\n",
    "agent_workflow = AgentWorkflow(\n",
    "    agents=[research_agent, write_agent, review_agent],\n",
    "    root_agent=research_agent.name,\n",
    "    initial_state={\n",
    "        \"research_notes\": {},\n",
    "        \"report_content\": \"Not written yet.\",\n",
    "        \"review\": \"Review required.\",\n",
    "    },\n",
    ")"
   ]
  },
  {
   "cell_type": "markdown",
   "id": "ac660a7d",
   "metadata": {},
   "source": [
    "During execution of the workflow, you can stream events, tool calls and updates to the console."
   ]
  },
  {
   "cell_type": "code",
   "execution_count": null,
   "id": "22c9d69a",
   "metadata": {},
   "outputs": [],
   "source": [
    "from llama_index.core.agent.workflow import (\n",
    "    AgentInput,\n",
    "    AgentOutput,\n",
    "    ToolCall,\n",
    "    ToolCallResult,\n",
    "    AgentStream,\n",
    ")\n",
    "\n",
    "research_topic = \"\"\"Write me a report on the history of the web.\n",
    "Briefly describe the history of the world wide web, including\n",
    "the development of the internet and the development of the web,\n",
    "including 21st century developments\"\"\"\n",
    "\n",
    "handler = agent_workflow.run(\n",
    "    user_msg=research_topic\n",
    ")\n",
    "\n",
    "current_agent = None\n",
    "current_tool_calls = \"\"\n",
    "async for event in handler.stream_events():\n",
    "    if (\n",
    "        hasattr(event, \"current_agent_name\")\n",
    "        and event.current_agent_name != current_agent\n",
    "    ):\n",
    "        current_agent = event.current_agent_name\n",
    "        print(f\"\\n{'='*50}\")\n",
    "        print(f\"\ud83e\udd16 Agent: {current_agent}\")\n",
    "        print(f\"{'='*50}\\n\")\n",
    "    elif isinstance(event, AgentOutput):\n",
    "        if event.response.content:\n",
    "            print(\"\ud83d\udce4 Output:\", event.response.content)\n",
    "        if event.tool_calls:\n",
    "            print(\n",
    "                \"\ud83d\udee0\ufe0f  Planning to use tools:\",\n",
    "                [call.tool_name for call in event.tool_calls],\n",
    "            )\n",
    "    elif isinstance(event, ToolCallResult):\n",
    "        print(f\"\ud83d\udd27 Tool Result ({event.tool_name}):\")\n",
    "        print(f\"  Arguments: {event.tool_kwargs}\")\n",
    "        print(f\"  Output: {event.tool_output}\")\n",
    "    elif isinstance(event, ToolCall):\n",
    "        print(f\"\ud83d\udd28 Calling Tool: {event.tool_name}\")\n",
    "        print(f\"  With arguments: {event.tool_kwargs}\")"
   ]
  },
  {
   "cell_type": "markdown",
   "id": "ab97f7c1",
   "metadata": {},
   "source": [
    "After the workflow is complete, you can print the final output of the report, as well as the final review state from then review agent."
   ]
  },
  {
   "cell_type": "code",
   "execution_count": null,
   "id": "52b2fa99",
   "metadata": {},
   "outputs": [],
   "source": [
    "state = await handler.ctx.store.get(\"state\")\n",
    "print(\"Report Content:\\n\", state[\"report_content\"])\n",
    "print(\"\\n------------\\nFinal Review:\\n\", state[\"review\"])"
   ]
  }
 ],
 "metadata": {
  "kernelspec": {
   "display_name": "Python 3",
   "language": "python",
   "name": "python3"
  },
  "language_info": {
   "codemirror_mode": {
    "name": "ipython",
    "version": 3
   },
   "file_extension": ".py",
   "mimetype": "text/x-python",
   "name": "python",
   "nbconvert_exporter": "python",
   "pygments_lexer": "ipython3",
   "version": "3.13.3"
  }
 },
 "nbformat": 4,
 "nbformat_minor": 5
}